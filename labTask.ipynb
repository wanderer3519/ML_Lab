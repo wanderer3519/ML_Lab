{
 "cells": [
  {
   "cell_type": "code",
   "execution_count": 4,
   "metadata": {},
   "outputs": [
    {
     "data": {
      "text/plain": [
       "array([[ 4, 10],\n",
       "       [10, 30]])"
      ]
     },
     "execution_count": 4,
     "metadata": {},
     "output_type": "execute_result"
    }
   ],
   "source": [
    "import numpy as np\n",
    "\n",
    "X = np.array([\n",
    "    [1, 1],\n",
    "    [1, 2],\n",
    "    [1, 3],\n",
    "    [1, 4]\n",
    "])\n",
    "\n",
    "Y = np.array([2, 3, 3, 6])\n",
    "\n",
    "XtX = np.array([\n",
    "    [2, 3, 4, 5],\n",
    "    [3, 5, 7, 9],\n",
    "    [4, 7, 10, 13],\n",
    "    [5, 9, 13, 17]\n",
    "])\n",
    "\n",
    "XtXinv = np.linalg.inv(X.T @ X)\n",
    "b = XtXinv @ X.T @ Y\n",
    "b\n",
    "X.T @ X"
   ]
  }
 ],
 "metadata": {
  "kernelspec": {
   "display_name": "Python 3",
   "language": "python",
   "name": "python3"
  },
  "language_info": {
   "codemirror_mode": {
    "name": "ipython",
    "version": 3
   },
   "file_extension": ".py",
   "mimetype": "text/x-python",
   "name": "python",
   "nbconvert_exporter": "python",
   "pygments_lexer": "ipython3",
   "version": "3.10.12"
  }
 },
 "nbformat": 4,
 "nbformat_minor": 2
}
