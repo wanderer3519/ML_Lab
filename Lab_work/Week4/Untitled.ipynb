{
 "cells": [
  {
   "cell_type": "code",
   "execution_count": 1,
   "id": "76014ee5-9dc7-4872-b915-4cc69ab689f3",
   "metadata": {},
   "outputs": [
    {
     "name": "stdout",
     "output_type": "stream",
     "text": [
      "Hello world\n"
     ]
    }
   ],
   "source": [
    "print(\"Hello world\")"
   ]
  },
  {
   "cell_type": "code",
   "execution_count": 7,
   "id": "4e5e4df2-001e-4137-b641-97e56f84763a",
   "metadata": {},
   "outputs": [],
   "source": [
    "import pandas as pd\n",
    "import numpy as np\n",
    "import scipy as sp\n",
    "import sklearn"
   ]
  },
  {
   "cell_type": "code",
   "execution_count": 87,
   "id": "b4530ab8-4ac8-4dfc-994b-a9fd60f60d30",
   "metadata": {},
   "outputs": [
    {
     "data": {
      "text/html": [
       "<div>\n",
       "<style scoped>\n",
       "    .dataframe tbody tr th:only-of-type {\n",
       "        vertical-align: middle;\n",
       "    }\n",
       "\n",
       "    .dataframe tbody tr th {\n",
       "        vertical-align: top;\n",
       "    }\n",
       "\n",
       "    .dataframe thead th {\n",
       "        text-align: right;\n",
       "    }\n",
       "</style>\n",
       "<table border=\"1\" class=\"dataframe\">\n",
       "  <thead>\n",
       "    <tr style=\"text-align: right;\">\n",
       "      <th></th>\n",
       "      <th>X</th>\n",
       "      <th>y</th>\n",
       "    </tr>\n",
       "  </thead>\n",
       "  <tbody>\n",
       "    <tr>\n",
       "      <th>0</th>\n",
       "      <td>2.353305</td>\n",
       "      <td>0.717852</td>\n",
       "    </tr>\n",
       "    <tr>\n",
       "      <th>1</th>\n",
       "      <td>5.973514</td>\n",
       "      <td>-0.334646</td>\n",
       "    </tr>\n",
       "    <tr>\n",
       "      <th>2</th>\n",
       "      <td>4.599254</td>\n",
       "      <td>-0.984431</td>\n",
       "    </tr>\n",
       "    <tr>\n",
       "      <th>3</th>\n",
       "      <td>3.761482</td>\n",
       "      <td>-0.779702</td>\n",
       "    </tr>\n",
       "    <tr>\n",
       "      <th>4</th>\n",
       "      <td>0.980294</td>\n",
       "      <td>0.808694</td>\n",
       "    </tr>\n",
       "    <tr>\n",
       "      <th>...</th>\n",
       "      <td>...</td>\n",
       "      <td>...</td>\n",
       "    </tr>\n",
       "    <tr>\n",
       "      <th>95</th>\n",
       "      <td>3.102609</td>\n",
       "      <td>-0.042607</td>\n",
       "    </tr>\n",
       "    <tr>\n",
       "      <th>96</th>\n",
       "      <td>3.284427</td>\n",
       "      <td>-0.150060</td>\n",
       "    </tr>\n",
       "    <tr>\n",
       "      <th>97</th>\n",
       "      <td>2.686319</td>\n",
       "      <td>0.473823</td>\n",
       "    </tr>\n",
       "    <tr>\n",
       "      <th>98</th>\n",
       "      <td>0.159713</td>\n",
       "      <td>0.186704</td>\n",
       "    </tr>\n",
       "    <tr>\n",
       "      <th>99</th>\n",
       "      <td>0.677902</td>\n",
       "      <td>0.709878</td>\n",
       "    </tr>\n",
       "  </tbody>\n",
       "</table>\n",
       "<p>100 rows × 2 columns</p>\n",
       "</div>"
      ],
      "text/plain": [
       "           X         y\n",
       "0   2.353305  0.717852\n",
       "1   5.973514 -0.334646\n",
       "2   4.599254 -0.984431\n",
       "3   3.761482 -0.779702\n",
       "4   0.980294  0.808694\n",
       "..       ...       ...\n",
       "95  3.102609 -0.042607\n",
       "96  3.284427 -0.150060\n",
       "97  2.686319  0.473823\n",
       "98  0.159713  0.186704\n",
       "99  0.677902  0.709878\n",
       "\n",
       "[100 rows x 2 columns]"
      ]
     },
     "execution_count": 87,
     "metadata": {},
     "output_type": "execute_result"
    }
   ],
   "source": [
    "# Task 1a\n",
    "sindf = pd.read_csv(\"./sinusoidal.csv\")\n",
    "sindf"
   ]
  },
  {
   "cell_type": "code",
   "execution_count": 9,
   "id": "741d6a58-27ee-461f-8471-9d94f8a419de",
   "metadata": {},
   "outputs": [
    {
     "data": {
      "text/plain": [
       "X    0\n",
       "y    0\n",
       "dtype: int64"
      ]
     },
     "execution_count": 9,
     "metadata": {},
     "output_type": "execute_result"
    }
   ],
   "source": [
    "sindf.isnull().sum()"
   ]
  },
  {
   "cell_type": "code",
   "execution_count": 12,
   "id": "0dd76ba8-420e-453a-a52e-a6af07b1eb6a",
   "metadata": {},
   "outputs": [
    {
     "data": {
      "text/plain": [
       "<matplotlib.legend.Legend at 0x7ff8e9eda0a0>"
      ]
     },
     "execution_count": 12,
     "metadata": {},
     "output_type": "execute_result"
    },
    {
     "data": {
      "image/png": "[encoded data removed]",
      "text/plain": [
       "<Figure size 640x480 with 1 Axes>"
      ]
     },
     "metadata": {},
     "output_type": "display_data"
    }
   ],
   "source": [
    "from matplotlib import pyplot as plt\n",
    "\n",
    "X = np.array(sindf['X'])\n",
    "y = np.array(sindf['y'])\n",
    "\n",
    "plt.scatter(X, y, label = \"Plot\")\n",
    "plt.legend()"
   ]
  },
  {
   "cell_type": "code",
   "execution_count": 20,
   "id": "999b33e9-609a-4cd6-bbc7-453f137ee306",
   "metadata": {},
   "outputs": [
    {
     "data": {
      "text/plain": [
       "array([[1.00000000e+00, 2.35330497e+00, 5.53804429e+00, 1.30327072e+01],\n",
       "       [1.00000000e+00, 5.97351416e+00, 3.56828714e+01, 2.13152138e+02],\n",
       "       [1.00000000e+00, 4.59925358e+00, 2.11531335e+01, 9.72886250e+01],\n",
       "       [1.00000000e+00, 3.76148219e+00, 1.41487483e+01, 5.32202647e+01],\n",
       "       [1.00000000e+00, 9.80294029e-01, 9.60976384e-01, 9.42039411e-01],\n",
       "       [1.00000000e+00, 9.80142478e-01, 9.60679278e-01, 9.41602568e-01],\n",
       "       [1.00000000e+00, 3.64950099e-01, 1.33188574e-01, 4.86071834e-02],\n",
       "       [1.00000000e+00, 5.44234523e+00, 2.96191216e+01, 1.61197485e+02],\n",
       "       [1.00000000e+00, 3.77691701e+00, 1.42651021e+01, 5.38781068e+01],\n",
       "       [1.00000000e+00, 4.44895122e+00, 1.97931669e+01, 8.80588341e+01],\n",
       "       [1.00000000e+00, 1.29336192e-01, 1.67278506e-02, 2.16351650e-03],\n",
       "       [1.00000000e+00, 6.09412333e+00, 3.71383392e+01, 2.26325619e+02],\n",
       "       [1.00000000e+00, 5.23039137e+00, 2.73569939e+01, 1.43087785e+02],\n",
       "       [1.00000000e+00, 1.33416598e+00, 1.77999886e+00, 2.37481393e+00],\n",
       "       [1.00000000e+00, 1.14243996e+00, 1.30516907e+00, 1.49107730e+00],\n",
       "       [1.00000000e+00, 1.15236452e+00, 1.32794399e+00, 1.53027554e+00],\n",
       "       [1.00000000e+00, 1.91161039e+00, 3.65425429e+00, 6.98551046e+00],\n",
       "       [1.00000000e+00, 3.29714190e+00, 1.08711447e+01, 3.58437068e+01],\n",
       "       [1.00000000e+00, 2.71399059e+00, 7.36574495e+00, 1.99905625e+01],\n",
       "       [1.00000000e+00, 1.82984665e+00, 3.34833878e+00, 6.12694652e+00],\n",
       "       [1.00000000e+00, 3.84438512e+00, 1.47792969e+01, 5.68173092e+01],\n",
       "       [1.00000000e+00, 8.76465776e-01, 7.68192256e-01, 6.73294221e-01],\n",
       "       [1.00000000e+00, 1.83559896e+00, 3.36942355e+00, 6.18491038e+00],\n",
       "       [1.00000000e+00, 2.30191935e+00, 5.29883270e+00, 1.21974855e+01],\n",
       "       [1.00000000e+00, 2.86557222e+00, 8.21150417e+00, 2.35306583e+01],\n",
       "       [1.00000000e+00, 4.93340606e+00, 2.43384954e+01, 1.20071681e+02],\n",
       "       [1.00000000e+00, 1.25458737e+00, 1.57398948e+00, 1.97470733e+00],\n",
       "       [1.00000000e+00, 3.23103027e+00, 1.04395566e+01, 3.37305233e+01],\n",
       "       [1.00000000e+00, 3.72225051e+00, 1.38551489e+01, 5.15723351e+01],\n",
       "       [1.00000000e+00, 2.91856551e-01, 8.51802462e-02, 2.48604128e-02],\n",
       "       [1.00000000e+00, 3.81731689e+00, 1.45719082e+01, 5.56255913e+01],\n",
       "       [1.00000000e+00, 1.07143467e+00, 1.14797225e+00, 1.22997727e+00],\n",
       "       [1.00000000e+00, 4.08731213e-01, 1.67061205e-01, 6.82831289e-02],\n",
       "       [1.00000000e+00, 5.96202367e+00, 3.55457262e+01, 2.11924461e+02],\n",
       "       [1.00000000e+00, 6.06724500e+00, 3.68114619e+01, 2.23344158e+02],\n",
       "       [1.00000000e+00, 5.07931034e+00, 2.57993935e+01, 1.31043126e+02],\n",
       "       [1.00000000e+00, 1.91394476e+00, 3.66318454e+00, 7.01113285e+00],\n",
       "       [1.00000000e+00, 6.13691992e-01, 3.76617861e-01, 2.31127365e-01],\n",
       "       [1.00000000e+00, 4.29916290e+00, 1.84828016e+01, 7.94605750e+01],\n",
       "       [1.00000000e+00, 2.76555968e+00, 7.64832035e+00, 2.11518864e+01],\n",
       "       [1.00000000e+00, 7.66788844e-01, 5.87965131e-01, 4.50845103e-01],\n",
       "       [1.00000000e+00, 3.11128829e+00, 9.68011480e+00, 3.01176278e+01],\n",
       "       [1.00000000e+00, 2.16069451e-01, 4.66860075e-02, 1.00874200e-02],\n",
       "       [1.00000000e+00, 5.71342859e+00, 3.26432663e+01, 1.86504971e+02],\n",
       "       [1.00000000e+00, 1.62596258e+00, 2.64375431e+00, 4.29864557e+00],\n",
       "       [1.00000000e+00, 4.16275028e+00, 1.73284899e+01, 7.21341763e+01],\n",
       "       [1.00000000e+00, 1.95853845e+00, 3.83587287e+00, 7.51270452e+00],\n",
       "       [1.00000000e+00, 3.26768375e+00, 1.06777571e+01, 3.48915333e+01],\n",
       "       [1.00000000e+00, 3.43508199e+00, 1.17997883e+01, 4.05332404e+01],\n",
       "       [1.00000000e+00, 1.16147480e+00, 1.34902371e+00, 1.56685704e+00],\n",
       "       [1.00000000e+00, 6.09207989e+00, 3.71134374e+01, 2.26098025e+02],\n",
       "       [1.00000000e+00, 4.87030317e+00, 2.37198529e+01, 1.15522875e+02],\n",
       "       [1.00000000e+00, 5.90304595e+00, 3.48459514e+01, 2.05697252e+02],\n",
       "       [1.00000000e+00, 5.62236606e+00, 3.16110001e+01, 1.77728614e+02],\n",
       "       [1.00000000e+00, 3.75671636e+00, 1.41129178e+01, 5.30182293e+01],\n",
       "       [1.00000000e+00, 5.79230665e+00, 3.35508163e+01, 1.94336616e+02],\n",
       "       [1.00000000e+00, 5.56014789e-01, 3.09152445e-01, 1.71893332e-01],\n",
       "       [1.00000000e+00, 1.23139664e+00, 1.51633769e+00, 1.86721314e+00],\n",
       "       [1.00000000e+00, 2.84171437e-01, 8.07534057e-02, 2.29478114e-02],\n",
       "       [1.00000000e+00, 2.04411075e+00, 4.17838878e+00, 8.54108943e+00],\n",
       "       [1.00000000e+00, 2.44213144e+00, 5.96400595e+00, 1.45648864e+01],\n",
       "       [1.00000000e+00, 1.70493625e+00, 2.90680762e+00, 4.95592167e+00],\n",
       "       [1.00000000e+00, 5.20711134e+00, 2.71140085e+01, 1.41185661e+02],\n",
       "       [1.00000000e+00, 2.24154726e+00, 5.02453412e+00, 1.12627307e+01],\n",
       "       [1.00000000e+00, 1.76516358e+00, 3.11580248e+00, 5.49990107e+00],\n",
       "       [1.00000000e+00, 3.40986006e+00, 1.16271456e+01, 3.96469394e+01],\n",
       "       [1.00000000e+00, 8.85453020e-01, 7.84027050e-01, 6.94219119e-01],\n",
       "       [1.00000000e+00, 5.04035228e+00, 2.54051511e+01, 1.28050912e+02],\n",
       "       [1.00000000e+00, 4.68415509e-01, 2.19413089e-01, 1.02776494e-01],\n",
       "       [1.00000000e+00, 6.20079350e+00, 3.84498400e+01, 2.38419518e+02],\n",
       "       [1.00000000e+00, 4.85215699e+00, 2.35434274e+01, 1.14236406e+02],\n",
       "       [1.00000000e+00, 1.24856745e+00, 1.55892068e+00, 1.94641762e+00],\n",
       "       [1.00000000e+00, 3.46964852e-02, 1.20384608e-03, 4.17692278e-05],\n",
       "       [1.00000000e+00, 5.12369527e+00, 2.62522532e+01, 1.34508545e+02],\n",
       "       [1.00000000e+00, 4.44131568e+00, 1.97252849e+01, 8.76062173e+01],\n",
       "       [1.00000000e+00, 4.58048713e+00, 2.09808623e+01, 9.61025698e+01],\n",
       "       [1.00000000e+00, 4.84603451e+00, 2.34840505e+01, 1.13804519e+02],\n",
       "       [1.00000000e+00, 4.65236268e-01, 2.16444785e-01, 1.00697964e-01],\n",
       "       [1.00000000e+00, 2.25230660e+00, 5.07288501e+00, 1.14256924e+01],\n",
       "       [1.00000000e+00, 7.28026772e-01, 5.30022981e-01, 3.85870920e-01],\n",
       "       [1.00000000e+00, 5.42303876e+00, 2.94093494e+01, 1.59488042e+02],\n",
       "       [1.00000000e+00, 3.91629763e+00, 1.53373871e+01, 6.00657730e+01],\n",
       "       [1.00000000e+00, 2.07909361e+00, 4.32263023e+00, 8.98715288e+00],\n",
       "       [1.00000000e+00, 3.99348893e-01, 1.59479538e-01, 6.36879769e-02],\n",
       "       [1.00000000e+00, 1.95395955e+00, 3.81795794e+00, 7.46013540e+00],\n",
       "       [1.00000000e+00, 2.04318707e+00, 4.17461341e+00, 8.52951614e+00],\n",
       "       [1.00000000e+00, 4.58425082e+00, 2.10153556e+01, 9.63396610e+01],\n",
       "       [1.00000000e+00, 4.00589174e+00, 1.60471686e+01, 6.42832201e+01],\n",
       "       [1.00000000e+00, 5.57452207e+00, 3.10752963e+01, 1.73229925e+02],\n",
       "       [1.00000000e+00, 2.96701388e+00, 8.80317136e+00, 2.61191316e+01],\n",
       "       [1.00000000e+00, 7.51432809e-01, 5.64651266e-01, 4.24297487e-01],\n",
       "       [1.00000000e+00, 4.48144917e+00, 2.00833866e+01, 9.00026763e+01],\n",
       "       [1.00000000e+00, 4.78015344e+00, 2.28498669e+01, 1.09225870e+02],\n",
       "       [1.00000000e+00, 3.52660864e+00, 1.24369685e+01, 4.38603206e+01],\n",
       "       [1.00000000e+00, 4.84412966e+00, 2.34655921e+01, 1.13670371e+02],\n",
       "       [1.00000000e+00, 3.10260924e+00, 9.62618407e+00, 2.98662876e+01],\n",
       "       [1.00000000e+00, 3.28442723e+00, 1.07874622e+01, 3.54306348e+01],\n",
       "       [1.00000000e+00, 2.68631944e+00, 7.21631216e+00, 1.93853197e+01],\n",
       "       [1.00000000e+00, 1.59713084e-01, 2.55082691e-02, 4.07400432e-03],\n",
       "       [1.00000000e+00, 6.77901829e-01, 4.59550890e-01, 3.11530388e-01]])"
      ]
     },
     "execution_count": 20,
     "metadata": {},
     "output_type": "execute_result"
    }
   ],
   "source": [
    "\"\"\"\n",
    "    From plot it is clear that a 3rd degree polynomial is suitable\n",
    "\"\"\"\n",
    "\n",
    "X1 = np.array([])\n",
    "ones = np.ones((len(sindf['X']), 1))\n",
    "\n",
    "sq = np.array([i**2 for i in X])\n",
    "cube = np.array([i**3 for i in X])\n",
    "X1 = np.column_stack((ones, X, sq, cube))\n",
    "X1"
   ]
  },
  {
   "cell_type": "code",
   "execution_count": 27,
   "id": "67b3c084-586a-44a8-8664-12c1f7919edf",
   "metadata": {},
   "outputs": [
    {
     "data": {
      "text/plain": [
       "array([-0.14978571,  1.84923393, -0.8663481 ,  0.09248753])"
      ]
     },
     "execution_count": 27,
     "metadata": {},
     "output_type": "execute_result"
    }
   ],
   "source": [
    "beta = np.linalg.inv(X1.T @ X1) @ X1.T @ y\n",
    "beta"
   ]
  },
  {
   "cell_type": "code",
   "execution_count": 34,
   "id": "e5cf9d2f-4070-4ef2-9953-5eecc8787689",
   "metadata": {},
   "outputs": [
    {
     "data": {
      "text/plain": [
       "<matplotlib.legend.Legend at 0x7ff8e8223dc0>"
      ]
     },
     "execution_count": 34,
     "metadata": {},
     "output_type": "execute_result"
    },
    {
     "data": {
      "image/png": "[encoded data removed]",
      "text/plain": [
       "<Figure size 640x480 with 1 Axes>"
      ]
     },
     "metadata": {},
     "output_type": "display_data"
    }
   ],
   "source": [
    "pred = np.array([beta[0] + beta[1] * i + beta[2] * i ** 2 + beta[3] * i ** 3 for i in X])\n",
    "\n",
    "plt.title(\"Values in csv\")\n",
    "plt.scatter(X, pred, label = \"Predicted\")\n",
    "plt.scatter(X, y, label = \"Actual\")\n",
    "plt.legend()"
   ]
  },
  {
   "cell_type": "code",
   "execution_count": 107,
   "id": "52b188b9-0976-4bb0-a9c5-b1ebd890070e",
   "metadata": {},
   "outputs": [
    {
     "data": {
      "text/plain": [
       "<matplotlib.legend.Legend at 0x7ff8e03b60a0>"
      ]
     },
     "execution_count": 107,
     "metadata": {},
     "output_type": "execute_result"
    },
    {
     "data": {
      "image/png": "[encoded data removed]",
      "text/plain": [
       "<Figure size 640x480 with 1 Axes>"
      ]
     },
     "metadata": {},
     "output_type": "display_data"
    }
   ],
   "source": [
    "from sklearn.linear_model import ridge_regression\n",
    "\n",
    "coef = ridge_regression(X1, y, alpha=0.01)\n",
    "\n",
    "pred = np.array([coef[0] + coef[1] * i + coef[2] * i**2 + coef[3]* i**3 for i in X])\n",
    "plt.scatter(X, pred, label = \"Ridge regression prediction\")\n",
    "plt.scatter(X, y, label = \"Actual values\")\n",
    "plt.title(\"Plot of predicted vs actual\")\n",
    "plt.xlabel(\"X values in sinusodial\")\n",
    "plt.ylabel(\"Y values\")\n",
    "plt.legend()"
   ]
  },
  {
   "cell_type": "code",
   "execution_count": 96,
   "id": "4c29c320-275d-453b-a5ae-d95a3d643767",
   "metadata": {},
   "outputs": [
    {
     "data": {
      "text/plain": [
       "0.0120707448896248"
      ]
     },
     "execution_count": 96,
     "metadata": {},
     "output_type": "execute_result"
    }
   ],
   "source": [
    "mse = mean_squared_error(pred, y)\n",
    "mse"
   ]
  },
  {
   "cell_type": "code",
   "execution_count": 125,
   "id": "ff9e7fd9-f39d-44ad-88b2-8892057fdbb8",
   "metadata": {},
   "outputs": [
    {
     "data": {
      "text/plain": [
       "0.6141501790103993"
      ]
     },
     "execution_count": 125,
     "metadata": {},
     "output_type": "execute_result"
    }
   ],
   "source": [
    "# Task 1b\n",
    "from sklearn import datasets, linear_model\n",
    "from sklearn.model_selection import cross_val_score\n",
    "from sklearn.model_selection import train_test_split\n",
    "\n",
    "ridge = linear_model.Ridge(alpha = 0.01)\n",
    "\n",
    "test = cross_val_score(ridge, copyX, y, cv=5)\n",
    "\n",
    "avgScore = np.average(test)\n",
    "avgScore"
   ]
  },
  {
   "cell_type": "code",
   "execution_count": 192,
   "id": "f6ef7f7a-19fb-443d-b236-91dc75de709c",
   "metadata": {},
   "outputs": [
    {
     "data": {
      "text/plain": [
       "16.744020105480654"
      ]
     },
     "execution_count": 192,
     "metadata": {},
     "output_type": "execute_result"
    }
   ],
   "source": [
    "#2a, 2b Custom impl of 5 fold cross validation\n",
    "from sklearn.linear_model import ridge_regression\n",
    "from sklearn.metrics import mean_squared_error as MSE\n",
    "\n",
    "def getPredicted(degree, xtrain, coef):\n",
    "    x = np.ones((len(xtrain), 1))\n",
    "    for h in range(degree):\n",
    "        x += np.array([coef[h] * i for i in xtrain])\n",
    "\n",
    "    return x\n",
    "\n",
    "def fiveCrossValid(copyX, y, degree, alpha, trainFlag):\n",
    "    x5train = []\n",
    "    x5test = []\n",
    "    y5train = []\n",
    "    y5test = []\n",
    "    \n",
    "    pred5train = []\n",
    "    pred5test = []\n",
    "    \n",
    "    for i in range(5):\n",
    "        X_train, X_test, y_train, y_test = train_test_split(copyX, y, test_size=0.33)\n",
    "        x5train.append(X_train)\n",
    "        x5test.append(X_test)\n",
    "        y5test.append(y_test)\n",
    "        y5train.append(y_train)\n",
    "    \n",
    "    x5train = np.array(x5train)\n",
    "    x5test = np.array(x5test)\n",
    "    y5train = np.array(y5train)\n",
    "    y5test = np.array(y5test)\n",
    "    \n",
    "    \n",
    "    \n",
    "    mseScores = []\n",
    "    \n",
    "    for i in range(5):\n",
    "        if trainFlag:\n",
    "            ones = np.ones((len(x5train[i]), 1))\n",
    "            x2 = ones\n",
    "            for k in range(1, degree + 1):\n",
    "                t = np.array([h ** k for h in x5train[i]])\n",
    "                x2 = np.column_stack((x2, t))\n",
    "            \n",
    "            coef = ridge_regression(x2, y5train[i], alpha = alpha)\n",
    "\n",
    "        \n",
    "        # g = np.array([coef[0] + coef[1] * i + coef[2] * i**2 + coef[3]* i**3 for i in x5train[i]])\n",
    "        \n",
    "\n",
    "            g = getPredicted(degree, x5train[i], coef)\n",
    "            ms = MSE(g, y5train[i])\n",
    "        # print(coef, i)\n",
    "        else:\n",
    "            ones = np.ones((len(x5test[i]), 1))\n",
    "            x2 = ones\n",
    "            for k in range(1, degree + 1):\n",
    "                t = np.array([h ** k for h in x5test[i]])\n",
    "                x2 = np.column_stack((x2, t))\n",
    "            \n",
    "            coef = ridge_regression(x2, y5test[i], alpha = alpha)\n",
    "            g = getPredicted(degree, x5test[i], coef)\n",
    "            ms = MSE(g, y5test[i])\n",
    "\n",
    "        \n",
    "        mseScores.append(ms)\n",
    "\n",
    "    return np.array(mseScores)\n",
    "# mseScores = fiveCrossValid(copyX, y, 3)\n",
    "# mseScores\n",
    "ms2 = fiveCrossValid(copyX, y, 3, 0.01, True)\n",
    "ms2\n",
    "avg = np.average(ms2)\n",
    "avg"
   ]
  },
  {
   "cell_type": "code",
   "execution_count": 193,
   "id": "fa32a883-34c4-46f5-a978-ff296694c24f",
   "metadata": {},
   "outputs": [
    {
     "data": {
      "text/plain": [
       "(0.6141501790103993, 16.744020105480654)"
      ]
     },
     "execution_count": 193,
     "metadata": {},
     "output_type": "execute_result"
    }
   ],
   "source": [
    "#2c Analysis\n",
    "sk_cv5 = test\n",
    "own_cv5 = np.array(ms2)\n",
    "sk_cv5, own_cv5\n",
    "\n",
    "sk_cv51 = np.average(sk_cv5)\n",
    "own_cv51 = np.average(own_cv5)\n",
    "\n",
    "sk_cv51, own_cv51"
   ]
  },
  {
   "cell_type": "code",
   "execution_count": 194,
   "id": "7589b7c0-31a6-41c2-bcef-f38642b176a4",
   "metadata": {},
   "outputs": [],
   "source": [
    "# Sklearn's model is more accurate than my own"
   ]
  },
  {
   "cell_type": "code",
   "execution_count": 196,
   "id": "85c028a3-8267-42ca-9b7e-5544c0927d80",
   "metadata": {},
   "outputs": [
    {
     "data": {
      "text/plain": [
       "[(2.6763290749479935, [1, 100]),\n",
       " (2.987892043094841, [3, 100]),\n",
       " (3.656928089677558, [2, 100]),\n",
       " (4.44728061522821, [5, 100]),\n",
       " (4.63300484350909, [4, 100]),\n",
       " (7.939595043146864, [2, 10]),\n",
       " (10.04095761175352, [3, 10]),\n",
       " (10.428111460690369, [2, 1]),\n",
       " (10.954410269623782, [1, 10]),\n",
       " (11.371163663730623, [4, 10]),\n",
       " (11.857020188981126, [2, 0.1]),\n",
       " (12.192501294179213, [5, 10]),\n",
       " (12.503336257587593, [2, 0.01]),\n",
       " (14.900541537291542, [4, 1]),\n",
       " (15.3136595804386, [3, 1]),\n",
       " (16.13288203114442, [3, 0.1]),\n",
       " (16.406224813129437, [3, 0.01]),\n",
       " (16.57603236831134, [5, 1]),\n",
       " (16.697892833558107, [5, 0.01]),\n",
       " (17.88222024692349, [5, 0.1]),\n",
       " (18.361974348300766, [4, 0.1]),\n",
       " (19.16933229041585, [1, 0.01]),\n",
       " (19.325179064869275, [4, 0.01]),\n",
       " (19.72972757195256, [1, 1]),\n",
       " (20.581938760697774, [1, 0.1])]"
      ]
     },
     "execution_count": 196,
     "metadata": {},
     "output_type": "execute_result"
    }
   ],
   "source": [
    "alpha = [0.01, 0.1, 1, 10, 100]\n",
    "degrees = [1, 2, 3, 4, 5]\n",
    "\n",
    "allCV = {}\n",
    "for i in range(5):\n",
    "    for j in range(5):\n",
    "        cv = fiveCrossValid(copyX, y, degrees[i], alpha[j], 1)\n",
    "        mean = np.average(cv)\n",
    "        \n",
    "        allCV[mean] = [degrees[i], alpha[j]]\n",
    "# np.array(allCV)\n",
    "it = list(allCV.items())\n",
    "it.sort()\n",
    "\n",
    "bestVal = it[0][0]\n",
    "deg1 = it[0][1][0]\n",
    "alpha1 = it[0][1][1]\n",
    "it"
   ]
  },
  {
   "cell_type": "code",
   "execution_count": 197,
   "id": "888ea8a7-b2b9-45e7-a9b7-22eb282a1ab6",
   "metadata": {},
   "outputs": [
    {
     "data": {
      "text/plain": [
       "(array([2.05474309, 1.84803692, 1.9318593 , 2.1678608 , 1.98889746]),\n",
       " array([2.65738012, 2.63375739, 2.73027502, 2.7676041 , 2.88420772]))"
      ]
     },
     "execution_count": 197,
     "metadata": {},
     "output_type": "execute_result"
    }
   ],
   "source": [
    "# retrain = ridge_regression(x2, y5train[i], alpha = alpha)\n",
    "mseTest = fiveCrossValid(copyX, y, deg1, alpha1, 0)\n",
    "mseTrain = fiveCrossValid(copyX, y, deg1, alpha1, 1)\n",
    "mseTest, mseTrain\n",
    "\n"
   ]
  }
 ],
 "metadata": {
  "kernelspec": {
   "display_name": "Python 3 (ipykernel)",
   "language": "python",
   "name": "python3"
  },
  "language_info": {
   "codemirror_mode": {
    "name": "ipython",
    "version": 3
   },
   "file_extension": ".py",
   "mimetype": "text/x-python",
   "name": "python",
   "nbconvert_exporter": "python",
   "pygments_lexer": "ipython3",
   "version": "3.9.19"
  }
 },
 "nbformat": 4,
 "nbformat_minor": 5
}
