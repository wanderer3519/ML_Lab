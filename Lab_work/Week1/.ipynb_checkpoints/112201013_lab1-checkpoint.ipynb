{
 "cells": [
  {
   "cell_type": "code",
   "execution_count": 2,
   "id": "798b29cc-58b2-40a5-bde5-8f43d7c10988",
   "metadata": {},
   "outputs": [
    {
     "name": "stdout",
     "output_type": "stream",
     "text": [
      "Area of rectangle is:  144.0\n"
     ]
    }
   ],
   "source": [
    "\"\"\"\n",
    "    Author: Bhogaraju Shanmukha Sri Krishna\n",
    "    RollNo: 112201013\n",
    "    Branch: CSE\n",
    "    Q1 a: Find area of rectangle\n",
    "\"\"\"\n",
    "\n",
    "length = float(input())\n",
    "breadth = float(input())\n",
    "\n",
    "print(\"Area of rectangle is: \", length * breadth)"
   ]
  },
  {
   "cell_type": "code",
   "execution_count": 3,
   "id": "bce23ea6-ffa0-4c81-829c-05d8ba3f0b64",
   "metadata": {},
   "outputs": [
    {
     "name": "stdout",
     "output_type": "stream",
     "text": [
      "True\n"
     ]
    }
   ],
   "source": [
    "\"\"\"\n",
    "    Q1 b: Is Prime?\n",
    "\"\"\"\n",
    "\n",
    "def isPrime(x):\n",
    "    if(x == 2): \n",
    "        return True\n",
    "    if(x < 2):\n",
    "        return False\n",
    "    if((x & 1) == 0):\n",
    "        return False\n",
    "    \n",
    "    sq = x // 2\n",
    "    for i in range(2, sq):\n",
    "        if(x % i == 0):\n",
    "            return False\n",
    "    return True\n",
    "\n",
    "x = int(input(\"Enter an Integer\"))\n",
    "print(isPrime(x))"
   ]
  },
  {
   "cell_type": "code",
   "execution_count": 14,
   "id": "130eb22c-1d69-4219-9f71-b60fc9e8a171",
   "metadata": {},
   "outputs": [
    {
     "name": "stdout",
     "output_type": "stream",
     "text": [
      " 2 3\n",
      " 4 5\n"
     ]
    },
    {
     "name": "stdout",
     "output_type": "stream",
     "text": [
      "2.8284271247461903\n"
     ]
    }
   ],
   "source": [
    "\"\"\"\n",
    "    Q1 c: dist betweeen two points\n",
    "\"\"\"\n",
    "\n",
    "def euclidDist(p, q):\n",
    "    return ((p[0] - q[0]) ** 2 + (p[1] - q[1]) ** 2) ** 0.5\n",
    "\n",
    "a = list(map(float, input().split()))\n",
    "b = list(map(float, input().split()))\n",
    "\n",
    "print(euclidDist(a, b))"
   ]
  },
  {
   "cell_type": "code",
   "execution_count": 15,
   "id": "d9753a6c-3f55-440a-83c5-7e3cb0c69f53",
   "metadata": {},
   "outputs": [
    {
     "name": "stdout",
     "output_type": "stream",
     "text": [
      "*****\n",
      "****\n",
      "***\n",
      "**\n",
      "*\n",
      "**\n",
      "***\n",
      "****\n",
      "*****\n"
     ]
    }
   ],
   "source": [
    "# Q1 d: Pattern\n",
    "for i in range(5, 0, -1):\n",
    "    print(\"*\" * i)\n",
    "\n",
    "for i in range(2, 6):\n",
    "    print(\"*\" * i)"
   ]
  },
  {
   "cell_type": "code",
   "execution_count": 32,
   "id": "6059ebb3-b42e-4eec-ba49-89bea46c1a9d",
   "metadata": {},
   "outputs": [
    {
     "name": "stdout",
     "output_type": "stream",
     "text": [
      "\n",
      "Name:  John\n",
      "\tPhysics marks:  85\n",
      "\tChemistry marks:  92\n",
      "\tMaths marks:  78\n",
      "\tAverage marks: 85.000\n",
      "\n",
      "Name:  David\n",
      "\tPhysics marks:  76\n",
      "\tChemistry marks:  88\n",
      "\tMaths marks:  90\n",
      "\tAverage marks: 84.667\n",
      "\n",
      "Name:  George\n",
      "\tPhysics marks:  52\n",
      "\tChemistry marks:  68\n",
      "\tMaths marks:  84\n",
      "\tAverage marks: 68.000\n",
      "\n",
      "Topper of the batch: John\n",
      "Failed Students: George "
     ]
    }
   ],
   "source": [
    "# Q2 a: Data structure: Dictionary\n",
    "studentRecords = {}\n",
    "\n",
    "# Q2 b: Physics, Chemistry, Maths marks\n",
    "studentRecords[\"John\"] =  [85, 92, 78]\n",
    "studentRecords[\"David\"] = [76, 88, 90]\n",
    "studentRecords[\"George\"] = [52, 68, 84]\n",
    "\n",
    "# Q2 c: printing in readable format\n",
    "\n",
    "for name, data in studentRecords.items():\n",
    "    print(\"\\nName: \", name)\n",
    "    print(\"\\tPhysics marks: \", data[0])\n",
    "    print(\"\\tChemistry marks: \", data[1])\n",
    "    print(\"\\tMaths marks: \", data[2])\n",
    "    \n",
    "    # Q2 d: average calculation\n",
    "    avg = data[0] + data[1] + data[2]\n",
    "    avg = avg / 3\n",
    "    print(\"\\tAverage marks: %.3f\" % avg)\n",
    "\n",
    "total = 0\n",
    "for name, data in studentRecords.items():\n",
    "    student = name\n",
    "    total = data[0] + data[1] + data[2]\n",
    "    break\n",
    "\n",
    "for name, data in studentRecords.items():\n",
    "    t = data[0] + data[1] + data[2]\n",
    "    if(total < t):\n",
    "        total = t\n",
    "        student = name\n",
    "print(\"\\nTopper of the batch: \", end = '')\n",
    "print(student)\n",
    "\n",
    "# Q2 f: Failed students \n",
    "print(\"Failed Students: \", end = '')\n",
    "\n",
    "def isFailed(data):\n",
    "    for i in data:\n",
    "        if i < 60:\n",
    "            return True\n",
    "    return False\n",
    "\n",
    "# failedStudents = {i for i in studentRecords if studentRecords[i][0] < 60 or studentRecords[i][1] < 60 or studentRecords[i][2] < 60}\n",
    "failedStudents = {i for i in studentRecords if isFailed(studentRecords[i])}\n",
    "\n",
    "\n",
    "for i in failedStudents:\n",
    "    print(f'{i} ', end = '')"
   ]
  },
  {
   "cell_type": "code",
   "execution_count": 82,
   "id": "cb81f27b-c578-4769-9d6a-d18cc58e6f88",
   "metadata": {},
   "outputs": [
    {
     "name": "stdout",
     "output_type": "stream",
     "text": [
      "[28.  95.  98.  96.5]\n",
      "[64. 88. 96. 92.]\n",
      "[79.  96.  79.  87.5]\n",
      "[98. 71. 99. 85.]\n",
      "[32. 69. 91. 80.]\n",
      "[['20.0' '15.0' '2.0' '8.5' 'E']\n",
      " ['50.0' '17.0' '5.0' '11.0' 'E']\n",
      " ['97.0' '17.0' '8.0' '12.5' 'E']\n",
      " ['24.0' '29.0' '4.0' '16.5' 'E']\n",
      " ['66.0' '27.0' '9.0' '18.0' 'E']\n",
      " ['15.0' '7.0' '29.0' '18.0' 'E']\n",
      " ['80.0' '5.0' '32.0' '18.5' 'E']\n",
      " ['17.0' '24.0' '13.0' '18.5' 'E']\n",
      " ['55.0' '17.0' '23.0' '20.0' 'E']\n",
      " ['4.0' '3.0' '40.0' '21.5' 'E']\n",
      " ['93.0' '6.0' '38.0' '22.0' 'E']\n",
      " ['38.0' '32.0' '14.0' '23.0' 'E']\n",
      " ['49.0' '42.0' '6.0' '24.0' 'E']\n",
      " ['86.0' '30.0' '24.0' '27.0' 'E']\n",
      " ['7.0' '42.0' '13.0' '27.5' 'E']\n",
      " ['34.0' '6.0' '55.0' '30.5' 'E']\n",
      " ['92.0' '32.0' '29.0' '30.5' 'E']\n",
      " ['25.0' '56.0' '7.0' '31.5' 'E']\n",
      " ['68.0' '37.0' '26.0' '31.5' 'E']\n",
      " ['30.0' '3.0' '61.0' '32.0' 'E']\n",
      " ['77.0' '3.0' '61.0' '32.0' 'E']\n",
      " ['21.0' '49.0' '16.0' '32.5' 'E']\n",
      " ['91.0' '55.0' '10.0' '32.5' 'E']\n",
      " ['8.0' '61.0' '6.0' '33.5' 'E']\n",
      " ['70.0' '16.0' '52.0' '34.0' 'E']\n",
      " ['39.0' '48.0' '23.0' '35.5' 'E']\n",
      " ['87.0' '42.0' '32.0' '37.0' 'E']\n",
      " ['5.0' '12.0' '63.0' '37.5' 'E']\n",
      " ['57.0' '75.0' '2.0' '38.5' 'E']\n",
      " ['96.0' '63.0' '14.0' '38.5' 'E']\n",
      " ['89.0' '37.0' '41.0' '39.0' 'E']\n",
      " ['47.0' '51.0' '28.0' '39.5' 'E']\n",
      " ['35.0' '80.0' '1.0' '40.5' 'E']\n",
      " ['9.0' '64.0' '21.0' '42.5' 'E']\n",
      " ['37.0' '31.0' '54.0' '42.5' 'E']\n",
      " ['53.0' '40.0' '47.0' '43.5' 'E']\n",
      " ['16.0' '35.0' '52.0' '43.5' 'E']\n",
      " ['74.0' '12.0' '76.0' '44.0' 'E']\n",
      " ['1.0' '22.0' '66.0' '44.0' 'E']\n",
      " ['71.0' '14.0' '75.0' '44.5' 'E']\n",
      " ['27.0' '13.0' '77.0' '45.0' 'E']\n",
      " ['99.0' '34.0' '57.0' '45.5' 'E']\n",
      " ['33.0' '58.0' '35.0' '46.5' 'E']\n",
      " ['18.0' '21.0' '72.0' '46.5' 'E']\n",
      " ['12.0' '36.0' '57.0' '46.5' 'E']\n",
      " ['36.0' '48.0' '45.0' '46.5' 'E']\n",
      " ['76.0' '9.0' '87.0' '48.0' 'E']\n",
      " ['52.0' '21.0' '75.0' '48.0' 'E']\n",
      " ['48.0' '71.0' '27.0' '49.0' 'E']\n",
      " ['82.0' '37.0' '61.0' '49.0' 'E']\n",
      " ['69.0' '85.0' '14.0' '49.5' 'E']\n",
      " ['75.0' '64.0' '36.0' '50.0' 'E']\n",
      " ['45.0' '98.0' '2.0' '50.0' 'E']\n",
      " ['61.0' '35.0' '66.0' '50.5' 'E']\n",
      " ['23.0' '50.0' '51.0' '50.5' 'E']\n",
      " ['43.0' '44.0' '57.0' '50.5' 'E']\n",
      " ['59.0' '25.0' '78.0' '51.5' 'E']\n",
      " ['67.0' '64.0' '40.0' '52.0' 'E']\n",
      " ['46.0' '76.0' '29.0' '52.5' 'E']\n",
      " ['22.0' '19.0' '87.0' '53.0' 'E']\n",
      " ['41.0' '63.0' '45.0' '54.0' 'E']\n",
      " ['54.0' '80.0' '31.0' '55.5' 'E']\n",
      " ['94.0' '79.0' '35.0' '57.0' 'E']\n",
      " ['73.0' '30.0' '85.0' '57.5' 'E']\n",
      " ['31.0' '28.0' '88.0' '58.0' 'E']\n",
      " ['85.0' '65.0' '52.0' '58.5' 'E']\n",
      " ['95.0' '34.0' '86.0' '60.0' 'D']\n",
      " ['90.0' '82.0' '39.0' '60.5' 'D']\n",
      " ['83.0' '42.0' '80.0' '61.0' 'D']\n",
      " ['40.0' '35.0' '88.0' '61.5' 'D']\n",
      " ['14.0' '75.0' '50.0' '62.5' 'D']\n",
      " ['63.0' '88.0' '37.0' '62.5' 'D']\n",
      " ['42.0' '89.0' '37.0' '63.0' 'D']\n",
      " ['100.0' '37.0' '90.0' '63.5' 'D']\n",
      " ['78.0' '34.0' '93.0' '63.5' 'D']\n",
      " ['26.0' '55.0' '73.0' '64.0' 'D']\n",
      " ['84.0' '91.0' '37.0' '64.0' 'D']\n",
      " ['44.0' '54.0' '74.0' '64.0' 'D']\n",
      " ['56.0' '86.0' '43.0' '64.5' 'D']\n",
      " ['88.0' '44.0' '87.0' '65.5' 'D']\n",
      " ['10.0' '82.0' '50.0' '66.0' 'D']\n",
      " ['51.0' '84.0' '51.0' '67.5' 'D']\n",
      " ['60.0' '60.0' '75.0' '67.5' 'D']\n",
      " ['58.0' '65.0' '71.0' '68.0' 'D']\n",
      " ['2.0' '64.0' '75.0' '69.5' 'D']\n",
      " ['3.0' '76.0' '68.0' '72.0' 'C']\n",
      " ['11.0' '98.0' '46.0' '72.0' 'C']\n",
      " ['72.0' '99.0' '48.0' '73.5' 'C']\n",
      " ['19.0' '78.0' '70.0' '74.0' 'C']\n",
      " ['65.0' '72.0' '77.0' '74.5' 'C']\n",
      " ['81.0' '80.0' '70.0' '75.0' 'C']\n",
      " ['13.0' '85.0' '66.0' '75.5' 'C']\n",
      " ['62.0' '90.0' '66.0' '78.0' 'C']\n",
      " ['29.0' '78.0' '78.0' '78.0' 'C']\n",
      " ['6.0' '67.0' '93.0' '80.0' 'B']\n",
      " ['32.0' '69.0' '91.0' '80.0' 'B']\n",
      " ['98.0' '71.0' '99.0' '85.0' 'B']\n",
      " ['79.0' '96.0' '79.0' '87.5' 'B']\n",
      " ['64.0' '88.0' '96.0' '92.0' 'A']\n",
      " ['28.0' '95.0' '98.0' '96.5' 'A']]\n"
     ]
    }
   ],
   "source": [
    "import numpy as np\n",
    "\n",
    "# 3a: Create numpy arrays\n",
    "ID = np.arange(1, 101)\n",
    "ML_score = np.random.randint(low = 1, high = 100, size = 100)\n",
    "DE_score = np.random.randint(low = 1, high = 100, size = 100)\n",
    "\n",
    "# 3b: create student_data\n",
    "student_data = np.column_stack((ID, ML_score, DE_score))\n",
    "\n",
    "# 3c: create avg_score\n",
    "avg_score = np.array([])\n",
    "\n",
    "l1 = [(rowData[1] + rowData[2]) / 2 for rowData in student_data]\n",
    "\n",
    "avg_score = np.append(avg_score, l1)\n",
    "# print(avg_score)\n",
    "\n",
    "student_data = np.column_stack((student_data, avg_score))\n",
    "student_data = student_data[student_data[:, 3].argsort()]\n",
    "\n",
    "for i in range(1, 6):\n",
    "    print(student_data[-1 * i])\n",
    "\n",
    "def grade(data):\n",
    "    if(data[-1] >= 90):\n",
    "        return 'A'\n",
    "    if(data[-1] >= 80):\n",
    "        return 'B'\n",
    "    if(data[-1] >= 70):\n",
    "        return 'C'\n",
    "    if(data[-1] >= 60):\n",
    "        return 'D'\n",
    "    return 'E'\n",
    "# print(student_data)\n",
    "\n",
    "# 3d: Grades\n",
    "grades = [grade(row) for row in student_data]\n",
    "\n",
    "student_data = np.column_stack((student_data, grades))\n",
    "print(student_data)"
   ]
  },
  {
   "cell_type": "code",
   "execution_count": 97,
   "id": "31a1d16e-de5d-4611-a0f1-42b3bf59e6d9",
   "metadata": {},
   "outputs": [
    {
     "name": "stdout",
     "output_type": "stream",
     "text": [
      "[124340 445842 571121 432586 493956 490314 207455 119986 307495 480134\n",
      " 456169 313686]\n"
     ]
    },
    {
     "data": {
      "image/png": "[encoded data removed]",
      "text/plain": [
       "<Figure size 640x480 with 1 Axes>"
      ]
     },
     "metadata": {},
     "output_type": "display_data"
    },
    {
     "name": "stdout",
     "output_type": "stream",
     "text": [
      "[108237, 96138, 137013, 27141, 151074, 96792, 51339, 57225, 77826, 125568, 32046, 108237]\n"
     ]
    }
   ],
   "source": [
    "from matplotlib import pyplot as plt\n",
    "\n",
    "# 4a: generate 2 np arrays\n",
    "price_per_unit = np.random.randint(low = 0, high = 500, size = 4)\n",
    "\n",
    "sales_data = np.random.randint(low = 0, high = 500, size = (4 , 12))\n",
    "\n",
    "# 4b: calculate revenue\n",
    "revenue = np.matmul(price_per_unit, sales_data)\n",
    "print(revenue)\n",
    "\n",
    "productIndex = np.random.randint(0, 4)\n",
    "\n",
    "\n",
    "# 4c: use pyplot to show data\n",
    "month = np.arange(1, 13)\n",
    "\n",
    "# plt.bar(month, revenue)\n",
    "# plt.show()\n",
    "\n",
    "revenueOne = []\n",
    "for i in sales_data[productIndex]:\n",
    "    revenueOne.append(i * price_per_unit[productIndex])\n",
    "\n",
    "plt.plot(month, revenueOne)\n",
    "plt.show()\n",
    "print(revenueOne)"
   ]
  },
  {
   "cell_type": "code",
   "execution_count": null,
   "id": "9a9e8558-1e79-400f-91c3-fb85a30e263b",
   "metadata": {},
   "outputs": [],
   "source": []
  }
 ],
 "metadata": {
  "kernelspec": {
   "display_name": "Python 3 (ipykernel)",
   "language": "python",
   "name": "python3"
  },
  "language_info": {
   "codemirror_mode": {
    "name": "ipython",
    "version": 3
   },
   "file_extension": ".py",
   "mimetype": "text/x-python",
   "name": "python",
   "nbconvert_exporter": "python",
   "pygments_lexer": "ipython3",
   "version": "3.9.19"
  }
 },
 "nbformat": 4,
 "nbformat_minor": 5
}
