{
 "cells": [
  {
   "cell_type": "code",
   "execution_count": 2,
   "id": "7ef7496d",
   "metadata": {},
   "outputs": [
    {
     "name": "stdout",
     "output_type": "stream",
     "text": [
      "Hello World!\n"
     ]
    }
   ],
   "source": [
    "print(\"Hello World!\")"
   ]
  },
  {
   "cell_type": "code",
   "execution_count": 3,
   "id": "2a276102",
   "metadata": {},
   "outputs": [],
   "source": [
    "import numpy as np\n",
    "import scipy as sp\n",
    "import matplotlib.pyplot as plt"
   ]
  },
  {
   "cell_type": "markdown",
   "id": "6c189059",
   "metadata": {},
   "source": [
    "##### Basic"
   ]
  },
  {
   "cell_type": "markdown",
   "id": "9a0c9c4d",
   "metadata": {},
   "source": [
    "##### Optimization\n",
    "Minimize f(x) = (x - 3) ** 2"
   ]
  },
  {
   "cell_type": "code",
   "execution_count": 4,
   "id": "11e922de",
   "metadata": {},
   "outputs": [],
   "source": [
    "from scipy.optimize import minimize"
   ]
  },
  {
   "cell_type": "code",
   "execution_count": 10,
   "id": "bebc0248",
   "metadata": {},
   "outputs": [
    {
     "data": {
      "text/plain": [
       "2.999999992549203"
      ]
     },
     "execution_count": 10,
     "metadata": {},
     "output_type": "execute_result"
    }
   ],
   "source": [
    "def f(x):\n",
    "    return (x - 3) * (x - 3)\n",
    "\n",
    "res = minimize(f, 2)\n",
    "\n",
    "res.x[0]"
   ]
  },
  {
   "cell_type": "markdown",
   "id": "aa425038",
   "metadata": {},
   "source": [
    "Minimize f(x, y) = (x - 1) ^ 2 + (y - 2.5) ^ 2\n",
    "x - 2y + 2 >= 0\n",
    "-x -2y + 6 >= 0\n",
    "-x + 2y + 2 >= 0\n",
    "x >= 0 y >= 0 "
   ]
  },
  {
   "cell_type": "code",
   "execution_count": 13,
   "id": "df6338d3",
   "metadata": {},
   "outputs": [
    {
     "data": {
      "text/plain": [
       "0.25"
      ]
     },
     "execution_count": 13,
     "metadata": {},
     "output_type": "execute_result"
    }
   ],
   "source": [
    "f = lambda x : (x[0] - 1) ** 2 + (x[1] - 2.5) ** 2\n",
    "\n",
    "f([1, 2])"
   ]
  },
  {
   "cell_type": "code",
   "execution_count": 12,
   "id": "466b3f17",
   "metadata": {},
   "outputs": [],
   "source": [
    "cons = ({'type': 'ineq', 'fun': lambda x : x[0] - 2 * x[1] + 2},\n",
    "        {'type': 'ineq', 'fun': lambda x : -x[0] - 2 * x[1] + 6},\n",
    "        {'type': 'ineq', 'fun': lambda x : -x[0] + 2 * x[1] + 2})\n",
    "\n",
    "bnds = ((0, None), (0, None))\n",
    "\n",
    "res = minimize(f, (2, 0), bounds = bnds, constraints = cons)"
   ]
  }
 ],
 "metadata": {
  "kernelspec": {
   "display_name": "Python 3 (ipykernel)",
   "language": "python",
   "name": "python3"
  },
  "language_info": {
   "codemirror_mode": {
    "name": "ipython",
    "version": 3
   },
   "file_extension": ".py",
   "mimetype": "text/x-python",
   "name": "python",
   "nbconvert_exporter": "python",
   "pygments_lexer": "ipython3",
   "version": "3.10.12"
  }
 },
 "nbformat": 4,
 "nbformat_minor": 5
}
