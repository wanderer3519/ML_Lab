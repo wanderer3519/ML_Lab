{
  "nbformat": 4,
  "nbformat_minor": 0,
  "metadata": {
    "colab": {
      "provenance": []
    },
    "kernelspec": {
      "name": "python3",
      "display_name": "Python 3"
    },
    "language_info": {
      "name": "python"
    }
  },
  "cells": [
    {
      "cell_type": "markdown",
      "source": [
        "#1. Load the dataset and visualize (1 Points)\n"
      ],
      "metadata": {
        "id": "UzFYuaoKRNgm"
      }
    },
    {
      "cell_type": "code",
      "execution_count": null,
      "metadata": {
        "id": "glEZWhlAQ0Yj"
      },
      "outputs": [],
      "source": [
        "from tqdm import tqdm\n",
        "#a. Load the given ‘emnist-letters-train.csv’ file using Pandas."
      ]
    },
    {
      "cell_type": "code",
      "source": [
        "#b. Extract the data of any single label of your choice. Use this data for the questions given below.(e.g Choose a label 1 for 'a' )\n",
        "#select data points from dataframe of any single label(1-26) of your choice"
      ],
      "metadata": {
        "id": "y89zW2UCU2rQ"
      },
      "execution_count": null,
      "outputs": []
    },
    {
      "cell_type": "code",
      "source": [
        "#c. Split the data into features and targets.Convert the features to images\n",
        "# Adjust targets to start from 0 (if necessary)\n",
        "#function to convert the row pixel to image (28,28,1)\n",
        "def row2img(df):\n",
        "    img_arr = []\n",
        "    num_row = df.shape[0]\n",
        "    for i in tqdm(range(num_row)):\n",
        "        img_arr.append(df.iloc[i].to_numpy()[:784].reshape((28,28,1)))\n",
        "    return np.array(img_arr)\n"
      ],
      "metadata": {
        "id": "hYOmh_9rVAYd"
      },
      "execution_count": null,
      "outputs": []
    },
    {
      "cell_type": "code",
      "source": [
        "# Function to plot some samples\n",
        "def plot(img, label, numplot=5):\n",
        "    label = label.to_numpy()\n",
        "    plt.figure(figsize=(10, 7), dpi=100)\n",
        "    for i in range(numplot):\n",
        "        plt.subplot(2, numplot, i + 1)\n",
        "        plt.axis('off')\n",
        "        plt.title(chr(label[i] + 97))  # Convert label to corresponding letter\n",
        "        plt.imshow(img[i][:, :, 0], cmap='gray')\n",
        "    plt.show()\n"
      ],
      "metadata": {
        "id": "_Da5h0GZR-LU"
      },
      "execution_count": null,
      "outputs": []
    },
    {
      "cell_type": "code",
      "source": [
        "#d. Visualize the extracted features using the function given to you."
      ],
      "metadata": {
        "id": "bRscv7qFVGrq"
      },
      "execution_count": null,
      "outputs": []
    },
    {
      "cell_type": "markdown",
      "source": [
        "#2. Get the eigen-values and eigen-vectors (4 Points)"
      ],
      "metadata": {
        "id": "UH2eaVEMVKaw"
      }
    },
    {
      "cell_type": "code",
      "source": [
        "#a. Find the mean and demean the data (subtracting mean from images).\n",
        "# write your code here"
      ],
      "metadata": {
        "id": "jVnms-iTVOqK"
      },
      "execution_count": null,
      "outputs": []
    },
    {
      "cell_type": "code",
      "source": [
        "#b. Reshape the demeaned data to 2D (num_samples, num_features).Use the demeaned data to get the covariance matrix."
      ],
      "metadata": {
        "id": "JBx4PHqbVeDX"
      },
      "execution_count": null,
      "outputs": []
    },
    {
      "cell_type": "code",
      "source": [
        "#c. Find the eigen-values and eigen-vectors using the covariance matrix.\n",
        "# you may use np.cov(data, rowvar=False), np.linalg.eig(covariance_matrix)\n",
        "\n",
        "\n",
        "#Sort them in descending order.\n",
        "#sorted_indices = np.argsort(eigenvalues)[::-1]\n"
      ],
      "metadata": {
        "id": "68pXdreuVg-V"
      },
      "execution_count": null,
      "outputs": []
    },
    {
      "cell_type": "code",
      "source": [
        "#d. Plot the eigen-values corresponding to dimension."
      ],
      "metadata": {
        "id": "ynyemAtdVnY8"
      },
      "execution_count": null,
      "outputs": []
    },
    {
      "cell_type": "markdown",
      "source": [
        "#3. Find the optimal number of components (6 Point)"
      ],
      "metadata": {
        "id": "FYqO-dM7Vowq"
      }
    },
    {
      "cell_type": "code",
      "source": [
        "#a. Project the data into lower dimensions and calculate the reconstruction loss for different number of components using the flattened demeaned data.\n"
      ],
      "metadata": {
        "id": "RR6kozaiVrjg"
      },
      "execution_count": null,
      "outputs": []
    },
    {
      "cell_type": "code",
      "source": [
        "#b. Plot the reconstruction loss corresponding to the number of components."
      ],
      "metadata": {
        "id": "T-X6IR4jVrmn"
      },
      "execution_count": null,
      "outputs": []
    },
    {
      "cell_type": "markdown",
      "source": [
        "#4. Perform PCA with optimal number of components (4 Point)"
      ],
      "metadata": {
        "id": "8DVP8XfPVPfi"
      }
    },
    {
      "cell_type": "code",
      "source": [
        "#a. Select the optimal number of components from the plot and perform PCA to get the reduced feature vectors.\n"
      ],
      "metadata": {
        "id": "eVCa0b4RWYRc"
      },
      "execution_count": null,
      "outputs": []
    },
    {
      "cell_type": "code",
      "source": [
        "#b. Get the reduced feature vectors.\n",
        "# Project the data onto the top k_optimal eigenvectors"
      ],
      "metadata": {
        "id": "K_Xa1368WbRH"
      },
      "execution_count": null,
      "outputs": []
    },
    {
      "cell_type": "code",
      "source": [
        "#c. Perform reconstruction to get back the original features. Reshape the reconstructed data back to the original image shape."
      ],
      "metadata": {
        "id": "pL_08JSnWeJE"
      },
      "execution_count": null,
      "outputs": []
    },
    {
      "cell_type": "markdown",
      "source": [
        "#5. Visualize and write your observations (5 Point)\n"
      ],
      "metadata": {
        "id": "cB2Uwp6QWgzs"
      }
    },
    {
      "cell_type": "code",
      "source": [
        "#a. Plot the images using reduced features.\n",
        "def plot_reduced_images(reduced_data, numplot=10):\n",
        "    # Normalize the reduced data for visualization\n",
        "    reduced_images = (reduced_data - np.min(reduced_data)) / (np.max(reduced_data) - np.min(reduced_data))\n",
        "    reduced_images = reduced_images.reshape(-1, k_optimal)  # Reshape to (num_samples, k_optimal)\n",
        "\n",
        "    plt.figure(figsize=(15, 5), dpi=100)\n",
        "    for i in range(numplot):\n",
        "        plt.subplot(2, numplot, i + 1)\n",
        "        plt.axis('off')\n",
        "        plt.title('Reduced Features')\n",
        "        plt.imshow(reduced_images[i].reshape(1, k_optimal), cmap='gray')\n"
      ],
      "metadata": {
        "id": "pG64BSENWkpo"
      },
      "execution_count": null,
      "outputs": []
    },
    {
      "cell_type": "code",
      "source": [
        "#b. Plot the images after reconstructing the features.\n",
        "def plot_reconstructed_images(original_images, reconstructed_images, numplot=10):\n",
        "    plt.figure(figsize=(15, 5), dpi=100)\n",
        "    for i in range(numplot):\n",
        "        # Original images\n",
        "        plt.subplot(2, numplot, i + 1)\n",
        "        plt.axis('off')\n",
        "        plt.title('Original')\n",
        "        plt.imshow(original_images[i][:, :, 0], cmap='gray')\n",
        "\n",
        "        # Reconstructed images\n",
        "        plt.subplot(2, numplot, i + 1 + numplot)\n",
        "        plt.axis('off')\n",
        "        plt.title('Reconstructed')\n",
        "        plt.imshow(reconstructed_images[i][:, :, 0], cmap='gray')\n",
        "    plt.show()\n",
        "\n"
      ],
      "metadata": {
        "id": "N1eRRmyZWn4i"
      },
      "execution_count": null,
      "outputs": []
    },
    {
      "cell_type": "code",
      "source": [
        "#c. Write your observation about the reconstructed images and original images.\n"
      ],
      "metadata": {
        "id": "rRfcO5OdXLGv"
      },
      "execution_count": null,
      "outputs": []
    }
  ]
}