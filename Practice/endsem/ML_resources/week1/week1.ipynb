{
 "cells": [
  {
   "cell_type": "code",
   "execution_count": 1,
   "metadata": {},
   "outputs": [
    {
     "name": "stdout",
     "output_type": "stream",
     "text": [
      "Hello world\n"
     ]
    }
   ],
   "source": [
    "print(\"Hello world\")"
   ]
  },
  {
   "cell_type": "code",
   "execution_count": 3,
   "metadata": {},
   "outputs": [
    {
     "name": "stdout",
     "output_type": "stream",
     "text": [
      "Area of rectangle is:  8.0\n"
     ]
    }
   ],
   "source": [
    "length = float(input(\"Enter length: \"))\n",
    "breadth = float(input(\"Enter breadth: \"))\n",
    "\n",
    "print(\"Area of rectangle is: \", length * breadth)"
   ]
  },
  {
   "cell_type": "code",
   "execution_count": 6,
   "metadata": {},
   "outputs": [
    {
     "name": "stdout",
     "output_type": "stream",
     "text": [
      "The number is prime\n"
     ]
    }
   ],
   "source": [
    "num = int(input(\"Enter a number: \"))\n",
    "\n",
    "def isPrime(num):\n",
    "    pass\n",
    "    if num == 1:\n",
    "        return False\n",
    "    if num == 2:\n",
    "        return True\n",
    "\n",
    "    near = int(num ** 0.5)\n",
    "    for n in range(2, near + 1):\n",
    "        if num % n == 0:\n",
    "            return False\n",
    "    \n",
    "    return True\n",
    "\n",
    "print(\"The number is prime\" if isPrime(num) else \"The number is not prime\")"
   ]
  },
  {
   "cell_type": "code",
   "execution_count": 8,
   "metadata": {},
   "outputs": [
    {
     "name": "stdout",
     "output_type": "stream",
     "text": [
      "Dist between them is:  5.0\n"
     ]
    }
   ],
   "source": [
    "def euclidDist(p1, p2):\n",
    "    return ((p2[0] - p1[0]) ** 2 + (p2[1] - p1[1]) ** 2) ** 0.5\n",
    "\n",
    "p1 = (1, 2)\n",
    "p2 = (4, 6)\n",
    "print(\"Dist between them is: \", euclidDist(p1, p2))"
   ]
  },
  {
   "cell_type": "code",
   "execution_count": 14,
   "metadata": {},
   "outputs": [
    {
     "name": "stdout",
     "output_type": "stream",
     "text": [
      "*******\n",
      "******\n",
      "*****\n",
      "****\n",
      "***\n",
      "**\n",
      "*\n",
      "**\n",
      "***\n",
      "****\n",
      "*****\n",
      "******\n"
     ]
    }
   ],
   "source": [
    "num = 6\n",
    "for i in range(num + 1, 0, -1):\n",
    "    print('*' * i)\n",
    "\n",
    "for i in range(2, num + 1):\n",
    "    print('*' * i)\n"
   ]
  },
  {
   "cell_type": "code",
   "execution_count": 17,
   "metadata": {},
   "outputs": [
    {
     "name": "stdout",
     "output_type": "stream",
     "text": [
      "Student:  John\n",
      "Marks in physics:  85\n",
      "Marks in chemistry:  92\n",
      "Marks in mathematics:  78\n",
      "Total marks:  255\n",
      "Average marks:  85.0\n",
      "\n",
      "Student:  David\n",
      "Marks in physics:  76\n",
      "Marks in chemistry:  88\n",
      "Marks in mathematics:  90\n",
      "Total marks:  254\n",
      "Average marks:  84.66666666666667\n",
      "\n",
      "Student:  George\n",
      "Marks in physics:  52\n",
      "Marks in chemistry:  68\n",
      "Marks in mathematics:  84\n",
      "Total marks:  204\n",
      "Average marks:  68.0\n",
      "\n",
      "Student with max marks:  John\n"
     ]
    }
   ],
   "source": [
    "student_records = {}\n",
    "\n",
    "student_records['John'] = [85, 92, 78]\n",
    "student_records['David'] = [76, 88, 90]\n",
    "student_records['George'] = [52, 68, 84]\n",
    "\n",
    "maxStudent = 'John'\n",
    "maxMarks = -float('inf')\n",
    "for student in student_records:\n",
    "    print(\"Student: \", student)\n",
    "    print(\"Marks in physics: \", student_records[student][0])\n",
    "    print(\"Marks in chemistry: \", student_records[student][1])\n",
    "    print(\"Marks in mathematics: \", student_records[student][2])\n",
    "\n",
    "    avgMarks = student_records[student][0] + student_records[student][1] + student_records[student][2]\n",
    "    print(\"Total marks: \", avgMarks)\n",
    "\n",
    "    if maxMarks < avgMarks:\n",
    "        maxMarks = avgMarks\n",
    "        maxStudent = student\n",
    "\n",
    "    avgMarks = avgMarks / 3\n",
    "    print(\"Average marks: \", avgMarks)\n",
    "    print()\n",
    "\n",
    "print(\"Student with max marks: \", maxStudent)"
   ]
  },
  {
   "cell_type": "code",
   "execution_count": 18,
   "metadata": {},
   "outputs": [
    {
     "data": {
      "text/plain": [
       "{'George'}"
      ]
     },
     "execution_count": 18,
     "metadata": {},
     "output_type": "execute_result"
    }
   ],
   "source": [
    "failed_students = {student for student in student_records if student_records[student][0] < 60 or student_records[student][1] < 60 or student_records[student][2] < 60}\n",
    "\n",
    "failed_students"
   ]
  },
  {
   "cell_type": "code",
   "execution_count": 19,
   "metadata": {},
   "outputs": [],
   "source": [
    "import numpy as np\n",
    "\n",
    "Id = np.array([i for i in range(100)])\n",
    "ML_score = np.random.randint(0, 100, size = 100)\n",
    "DE_score = np.random.randint(0, 100, size = 100)"
   ]
  },
  {
   "cell_type": "code",
   "execution_count": 21,
   "metadata": {},
   "outputs": [
    {
     "data": {
      "text/plain": [
       "array([[ 0. , 65. , 98. , 81.5],\n",
       "       [ 1. , 50. , 91. , 70.5],\n",
       "       [ 2. , 11. , 43. , 27. ],\n",
       "       [ 3. , 68. , 39. , 53.5],\n",
       "       [ 4. , 28. , 52. , 40. ],\n",
       "       [ 5. , 90. , 78. , 84. ],\n",
       "       [ 6. , 45. , 57. , 51. ],\n",
       "       [ 7. , 26. , 79. , 52.5],\n",
       "       [ 8. , 21. , 86. , 53.5],\n",
       "       [ 9. , 78. , 39. , 58.5],\n",
       "       [10. , 94. , 56. , 75. ],\n",
       "       [11. , 74. , 73. , 73.5],\n",
       "       [12. , 59. , 78. , 68.5],\n",
       "       [13. ,  1. , 88. , 44.5],\n",
       "       [14. , 52. , 13. , 32.5],\n",
       "       [15. , 16. , 82. , 49. ],\n",
       "       [16. , 41. ,  1. , 21. ],\n",
       "       [17. , 35. , 59. , 47. ],\n",
       "       [18. , 45. , 90. , 67.5],\n",
       "       [19. , 74. , 28. , 51. ],\n",
       "       [20. , 97. , 65. , 81. ],\n",
       "       [21. ,  3. , 64. , 33.5],\n",
       "       [22. , 26. , 54. , 40. ],\n",
       "       [23. , 95. , 46. , 70.5],\n",
       "       [24. , 84. , 94. , 89. ],\n",
       "       [25. , 27. , 45. , 36. ],\n",
       "       [26. , 20. , 76. , 48. ],\n",
       "       [27. , 94. , 27. , 60.5],\n",
       "       [28. , 14. ,  2. ,  8. ],\n",
       "       [29. ,  4. , 32. , 18. ],\n",
       "       [30. , 93. , 59. , 76. ],\n",
       "       [31. , 62. , 74. , 68. ],\n",
       "       [32. , 52. , 67. , 59.5],\n",
       "       [33. , 44. , 39. , 41.5],\n",
       "       [34. ,  9. , 61. , 35. ],\n",
       "       [35. ,  2. ,  4. ,  3. ],\n",
       "       [36. , 56. , 76. , 66. ],\n",
       "       [37. , 48. , 63. , 55.5],\n",
       "       [38. , 67. , 85. , 76. ],\n",
       "       [39. ,  5. , 76. , 40.5],\n",
       "       [40. , 43. , 84. , 63.5],\n",
       "       [41. , 58. , 62. , 60. ],\n",
       "       [42. , 19. , 46. , 32.5],\n",
       "       [43. , 26. , 98. , 62. ],\n",
       "       [44. , 89. , 47. , 68. ],\n",
       "       [45. , 72. , 47. , 59.5],\n",
       "       [46. ,  7. , 60. , 33.5],\n",
       "       [47. , 78. , 89. , 83.5],\n",
       "       [48. , 20. , 37. , 28.5],\n",
       "       [49. , 71. , 49. , 60. ],\n",
       "       [50. , 95. , 54. , 74.5],\n",
       "       [51. , 99. , 49. , 74. ],\n",
       "       [52. , 68. , 80. , 74. ],\n",
       "       [53. , 35. , 90. , 62.5],\n",
       "       [54. , 46. , 14. , 30. ],\n",
       "       [55. , 84. , 87. , 85.5],\n",
       "       [56. ,  9. , 47. , 28. ],\n",
       "       [57. , 96. , 38. , 67. ],\n",
       "       [58. , 63. , 42. , 52.5],\n",
       "       [59. , 36. ,  8. , 22. ],\n",
       "       [60. , 13. , 89. , 51. ],\n",
       "       [61. , 51. , 54. , 52.5],\n",
       "       [62. , 28. , 97. , 62.5],\n",
       "       [63. , 89. , 19. , 54. ],\n",
       "       [64. , 86. ,  9. , 47.5],\n",
       "       [65. , 41. , 69. , 55. ],\n",
       "       [66. , 88. , 20. , 54. ],\n",
       "       [67. , 40. , 64. , 52. ],\n",
       "       [68. , 63. , 53. , 58. ],\n",
       "       [69. , 83. , 19. , 51. ],\n",
       "       [70. , 54. , 47. , 50.5],\n",
       "       [71. , 15. , 65. , 40. ],\n",
       "       [72. , 35. , 80. , 57.5],\n",
       "       [73. , 17. ,  7. , 12. ],\n",
       "       [74. , 75. , 94. , 84.5],\n",
       "       [75. , 30. , 45. , 37.5],\n",
       "       [76. ,  9. , 25. , 17. ],\n",
       "       [77. , 33. , 91. , 62. ],\n",
       "       [78. , 84. , 78. , 81. ],\n",
       "       [79. , 87. , 70. , 78.5],\n",
       "       [80. , 34. ,  1. , 17.5],\n",
       "       [81. , 63. , 27. , 45. ],\n",
       "       [82. ,  9. ,  2. ,  5.5],\n",
       "       [83. , 43. , 78. , 60.5],\n",
       "       [84. , 79. , 64. , 71.5],\n",
       "       [85. , 46. , 37. , 41.5],\n",
       "       [86. ,  5. , 90. , 47.5],\n",
       "       [87. , 52. , 94. , 73. ],\n",
       "       [88. , 21. , 74. , 47.5],\n",
       "       [89. , 84. , 21. , 52.5],\n",
       "       [90. , 28. , 51. , 39.5],\n",
       "       [91. , 51. , 55. , 53. ],\n",
       "       [92. , 62. , 73. , 67.5],\n",
       "       [93. , 26. , 48. , 37. ],\n",
       "       [94. , 19. , 73. , 46. ],\n",
       "       [95. , 84. , 50. , 67. ],\n",
       "       [96. , 36. , 73. , 54.5],\n",
       "       [97. , 49. , 88. , 68.5],\n",
       "       [98. , 50. , 15. , 32.5],\n",
       "       [99. , 48. , 34. , 41. ]])"
      ]
     },
     "execution_count": 21,
     "metadata": {},
     "output_type": "execute_result"
    }
   ],
   "source": [
    "student_data = np.column_stack([Id, ML_score, DE_score])\n",
    "avg_score = np.array([(ML_score[i] + DE_score[i]) / 2 for i in range(100)])\n",
    "student_data = np.column_stack([student_data, avg_score])\n",
    "student_data"
   ]
  },
  {
   "cell_type": "code",
   "execution_count": 24,
   "metadata": {},
   "outputs": [],
   "source": [
    "student_data = student_data[student_data[:, 3].argsort()][::-1]"
   ]
  },
  {
   "cell_type": "code",
   "execution_count": 28,
   "metadata": {},
   "outputs": [
    {
     "data": {
      "text/plain": [
       "array([[24. , 84. , 94. , 89. ],\n",
       "       [55. , 84. , 87. , 85.5],\n",
       "       [74. , 75. , 94. , 84.5],\n",
       "       [ 5. , 90. , 78. , 84. ],\n",
       "       [47. , 78. , 89. , 83.5]])"
      ]
     },
     "execution_count": 28,
     "metadata": {},
     "output_type": "execute_result"
    }
   ],
   "source": [
    "student_data[:5, :]"
   ]
  },
  {
   "cell_type": "code",
   "execution_count": 29,
   "metadata": {},
   "outputs": [
    {
     "data": {
      "text/plain": [
       "array([['24.0', '84.0', '94.0', '89.0', 'B'],\n",
       "       ['55.0', '84.0', '87.0', '85.5', 'C'],\n",
       "       ['74.0', '75.0', '94.0', '84.5', 'E'],\n",
       "       ['5.0', '90.0', '78.0', '84.0', 'E'],\n",
       "       ['47.0', '78.0', '89.0', '83.5', 'E'],\n",
       "       ['0.0', '65.0', '98.0', '81.5', 'B'],\n",
       "       ['78.0', '84.0', '78.0', '81.0', 'E'],\n",
       "       ['20.0', '97.0', '65.0', '81.0', 'E'],\n",
       "       ['79.0', '87.0', '70.0', '78.5', 'E'],\n",
       "       ['30.0', '93.0', '59.0', '76.0', 'E'],\n",
       "       ['38.0', '67.0', '85.0', '76.0', 'C'],\n",
       "       ['10.0', '94.0', '56.0', '75.0', 'C'],\n",
       "       ['50.0', '95.0', '54.0', '74.5', 'D'],\n",
       "       ['51.0', '99.0', '49.0', '74.0', 'E'],\n",
       "       ['52.0', '68.0', '80.0', '74.0', 'E'],\n",
       "       ['11.0', '74.0', '73.0', '73.5', 'E'],\n",
       "       ['87.0', '52.0', '94.0', '73.0', 'E'],\n",
       "       ['84.0', '79.0', '64.0', '71.5', 'E'],\n",
       "       ['1.0', '50.0', '91.0', '70.5', 'D'],\n",
       "       ['23.0', '95.0', '46.0', '70.5', 'E'],\n",
       "       ['97.0', '49.0', '88.0', '68.5', 'B'],\n",
       "       ['12.0', '59.0', '78.0', '68.5', 'E'],\n",
       "       ['31.0', '62.0', '74.0', '68.0', 'E'],\n",
       "       ['44.0', '89.0', '47.0', '68.0', 'C'],\n",
       "       ['92.0', '62.0', '73.0', '67.5', 'B'],\n",
       "       ['18.0', '45.0', '90.0', '67.5', 'E'],\n",
       "       ['95.0', '84.0', '50.0', '67.0', 'E'],\n",
       "       ['57.0', '96.0', '38.0', '67.0', 'D'],\n",
       "       ['36.0', '56.0', '76.0', '66.0', 'E'],\n",
       "       ['40.0', '43.0', '84.0', '63.5', 'E'],\n",
       "       ['53.0', '35.0', '90.0', '62.5', 'C'],\n",
       "       ['62.0', '28.0', '97.0', '62.5', 'D'],\n",
       "       ['43.0', '26.0', '98.0', '62.0', 'E'],\n",
       "       ['77.0', '33.0', '91.0', '62.0', 'E'],\n",
       "       ['27.0', '94.0', '27.0', '60.5', 'E'],\n",
       "       ['83.0', '43.0', '78.0', '60.5', 'E'],\n",
       "       ['49.0', '71.0', '49.0', '60.0', 'D'],\n",
       "       ['41.0', '58.0', '62.0', '60.0', 'E'],\n",
       "       ['45.0', '72.0', '47.0', '59.5', 'C'],\n",
       "       ['32.0', '52.0', '67.0', '59.5', 'E'],\n",
       "       ['9.0', '78.0', '39.0', '58.5', 'D'],\n",
       "       ['68.0', '63.0', '53.0', '58.0', 'D'],\n",
       "       ['72.0', '35.0', '80.0', '57.5', 'E'],\n",
       "       ['37.0', '48.0', '63.0', '55.5', 'D'],\n",
       "       ['65.0', '41.0', '69.0', '55.0', 'D'],\n",
       "       ['96.0', '36.0', '73.0', '54.5', 'E'],\n",
       "       ['66.0', '88.0', '20.0', '54.0', 'E'],\n",
       "       ['63.0', '89.0', '19.0', '54.0', 'B'],\n",
       "       ['3.0', '68.0', '39.0', '53.5', 'E'],\n",
       "       ['8.0', '21.0', '86.0', '53.5', 'D'],\n",
       "       ['91.0', '51.0', '55.0', '53.0', 'C'],\n",
       "       ['7.0', '26.0', '79.0', '52.5', 'C'],\n",
       "       ['61.0', '51.0', '54.0', '52.5', 'C'],\n",
       "       ['89.0', '84.0', '21.0', '52.5', 'D'],\n",
       "       ['58.0', '63.0', '42.0', '52.5', 'E'],\n",
       "       ['67.0', '40.0', '64.0', '52.0', 'B'],\n",
       "       ['19.0', '74.0', '28.0', '51.0', 'E'],\n",
       "       ['6.0', '45.0', '57.0', '51.0', 'D'],\n",
       "       ['60.0', '13.0', '89.0', '51.0', 'E'],\n",
       "       ['69.0', '83.0', '19.0', '51.0', 'E'],\n",
       "       ['70.0', '54.0', '47.0', '50.5', 'E'],\n",
       "       ['15.0', '16.0', '82.0', '49.0', 'E'],\n",
       "       ['26.0', '20.0', '76.0', '48.0', 'D'],\n",
       "       ['64.0', '86.0', '9.0', '47.5', 'E'],\n",
       "       ['86.0', '5.0', '90.0', '47.5', 'E'],\n",
       "       ['88.0', '21.0', '74.0', '47.5', 'E'],\n",
       "       ['17.0', '35.0', '59.0', '47.0', 'E'],\n",
       "       ['94.0', '19.0', '73.0', '46.0', 'E'],\n",
       "       ['81.0', '63.0', '27.0', '45.0', 'E'],\n",
       "       ['13.0', '1.0', '88.0', '44.5', 'E'],\n",
       "       ['85.0', '46.0', '37.0', '41.5', 'E'],\n",
       "       ['33.0', '44.0', '39.0', '41.5', 'E'],\n",
       "       ['99.0', '48.0', '34.0', '41.0', 'E'],\n",
       "       ['39.0', '5.0', '76.0', '40.5', 'E'],\n",
       "       ['22.0', '26.0', '54.0', '40.0', 'B'],\n",
       "       ['71.0', '15.0', '65.0', '40.0', 'E'],\n",
       "       ['4.0', '28.0', '52.0', '40.0', 'E'],\n",
       "       ['90.0', '28.0', '51.0', '39.5', 'D'],\n",
       "       ['75.0', '30.0', '45.0', '37.5', 'B'],\n",
       "       ['93.0', '26.0', '48.0', '37.0', 'C'],\n",
       "       ['25.0', '27.0', '45.0', '36.0', 'E'],\n",
       "       ['34.0', '9.0', '61.0', '35.0', 'E'],\n",
       "       ['21.0', '3.0', '64.0', '33.5', 'E'],\n",
       "       ['46.0', '7.0', '60.0', '33.5', 'D'],\n",
       "       ['42.0', '19.0', '46.0', '32.5', 'C'],\n",
       "       ['14.0', '52.0', '13.0', '32.5', 'E'],\n",
       "       ['98.0', '50.0', '15.0', '32.5', 'E'],\n",
       "       ['54.0', '46.0', '14.0', '30.0', 'C'],\n",
       "       ['48.0', '20.0', '37.0', '28.5', 'E'],\n",
       "       ['56.0', '9.0', '47.0', '28.0', 'E'],\n",
       "       ['2.0', '11.0', '43.0', '27.0', 'E'],\n",
       "       ['59.0', '36.0', '8.0', '22.0', 'E'],\n",
       "       ['16.0', '41.0', '1.0', '21.0', 'D'],\n",
       "       ['29.0', '4.0', '32.0', '18.0', 'E'],\n",
       "       ['80.0', '34.0', '1.0', '17.5', 'E'],\n",
       "       ['76.0', '9.0', '25.0', '17.0', 'D'],\n",
       "       ['73.0', '17.0', '7.0', '12.0', 'E'],\n",
       "       ['28.0', '14.0', '2.0', '8.0', 'D'],\n",
       "       ['82.0', '9.0', '2.0', '5.5', 'E'],\n",
       "       ['35.0', '2.0', '4.0', '3.0', 'E']], dtype='<U32')"
      ]
     },
     "execution_count": 29,
     "metadata": {},
     "output_type": "execute_result"
    }
   ],
   "source": [
    "grades = []\n",
    "for score in avg_score:\n",
    "    if score >= 90:\n",
    "        grades.append('A')\n",
    "    elif score >= 80:\n",
    "        grades.append('B')\n",
    "    elif score >= 70:\n",
    "        grades.append('C')\n",
    "    elif score >= 60:\n",
    "        grades.append('D')\n",
    "    else:\n",
    "        grades.append('E')\n",
    "    \n",
    "student_data = np.column_stack([student_data, grades])\n",
    "student_data"
   ]
  },
  {
   "cell_type": "code",
   "execution_count": 34,
   "metadata": {},
   "outputs": [],
   "source": [
    "sales_data = np.random.randint(low = 0, high = 400, size = (4, 12))\n",
    "price_per_unit = np.random.randint(low = 0, high = 400, size = 4)\n",
    "\n",
    "total = price_per_unit @ sales_data"
   ]
  },
  {
   "cell_type": "code",
   "execution_count": 39,
   "metadata": {},
   "outputs": [
    {
     "data": {
      "text/plain": [
       "array([[ 31, 151, 145, 268, 157, 244, 178, 367, 143, 139,  10, 352],\n",
       "       [275, 256, 148, 264,  37,  62,  68, 334,  53, 391, 165, 292],\n",
       "       [ 11, 226, 124, 122,  75, 145, 360, 330, 177, 224,  12, 356],\n",
       "       [ 81,  24,  10, 330,  24, 209, 163, 204,  69,  31,  45, 302]])"
      ]
     },
     "execution_count": 39,
     "metadata": {},
     "output_type": "execute_result"
    }
   ],
   "source": [
    "sales_data"
   ]
  },
  {
   "cell_type": "code",
   "execution_count": 40,
   "metadata": {},
   "outputs": [
    {
     "data": {
      "text/plain": [
       "<BarContainer object of 12 artists>"
      ]
     },
     "execution_count": 40,
     "metadata": {},
     "output_type": "execute_result"
    },
    {
     "data": {
      "image/png": "[encoded data removed]",
      "text/plain": [
       "<Figure size 640x480 with 1 Axes>"
      ]
     },
     "metadata": {},
     "output_type": "display_data"
    }
   ],
   "source": [
    "from matplotlib import pyplot as plt\n",
    "\n",
    "months = ['January', 'February', 'March', 'April', 'May', 'June', 'July', 'August', 'September', 'October', 'November', 'December']\n",
    "y = sales_data[1, :].T\n",
    "\n",
    "plt.title(\"Sales of all products across all months\")\n",
    "plt.xlabel(\"Months\")\n",
    "plt.ylabel(\"Sales of product\")\n",
    "plt.bar(months, y, label = \"Product 1\")"
   ]
  }
 ],
 "metadata": {
  "kernelspec": {
   "display_name": "Python 3",
   "language": "python",
   "name": "python3"
  },
  "language_info": {
   "codemirror_mode": {
    "name": "ipython",
    "version": 3
   },
   "file_extension": ".py",
   "mimetype": "text/x-python",
   "name": "python",
   "nbconvert_exporter": "python",
   "pygments_lexer": "ipython3",
   "version": "3.10.12"
  }
 },
 "nbformat": 4,
 "nbformat_minor": 2
}
